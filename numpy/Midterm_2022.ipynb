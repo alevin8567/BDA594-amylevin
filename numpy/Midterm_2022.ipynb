{
  "cells": [
    {
      "cell_type": "code",
      "metadata": {
        "id": "LXs4hfRjwmqL"
      },
      "source": [
        "# Part 1 Containers"
      ],
      "execution_count": null,
      "outputs": []
    },
    {
      "cell_type": "markdown",
      "metadata": {
        "id": "72Hc54vpfPX8"
      },
      "source": [
        "You must execute the next cell, which we will refer to as the **data cell**, to do the problems in this section."
      ]
    },
    {
      "cell_type": "code",
      "execution_count": null,
      "metadata": {
        "id": "rHA8q65zfPYA"
      },
      "outputs": [],
      "source": [
        "# Data cell\n",
        "\n",
        "epsilon_left = 'abcde'\n",
        "epsilon_right = 'zyxwv'\n",
        "epsilon = list(zip(epsilon_left,epsilon_right))\n",
        "fruit = ['tomato','cabbage','persimmon','rambutan','mangosteen']\n",
        "frittata = {'alpha': epsilon_left + epsilon_right,\n",
        "            'beta': epsilon_right + epsilon_left,\n",
        "            'delta': fruit,\n",
        "            'gamma': dict(epsilon)}"
      ]
    },
    {
      "cell_type": "markdown",
      "metadata": {
        "id": "t4oOZ67gfPYC"
      },
      "source": [
        "Using the containers in the data cell, write a single Python expression (so, **not** a for-loop) which returns the given values.  Sometimes there are actually many possible answers.  Try for the simplest."
      ]
    },
    {
      "cell_type": "markdown",
      "metadata": {
        "id": "in9LoC70fPYC"
      },
      "source": [
        "# 1.1\n",
        "\n",
        "Return `'bc'`."
      ]
    },
    {
      "cell_type": "code",
      "execution_count": 4,
      "metadata": {
        "scrolled": true,
        "colab": {
          "base_uri": "https://localhost:8080/"
        },
        "id": "7zbc5J8bfPYD",
        "outputId": "3442127e-0ef6-47af-8383-de268769d23a"
      },
      "outputs": [
        {
          "output_type": "stream",
          "name": "stdout",
          "text": [
            "bc\n"
          ]
        }
      ],
      "source": [
        "print(epsilon_left[1:3])"
      ]
    },
    {
      "cell_type": "markdown",
      "metadata": {
        "id": "72Pqno87fPYE"
      },
      "source": [
        "# 1.2\n",
        "\n",
        "Return `'dezy'`."
      ]
    },
    {
      "cell_type": "code",
      "execution_count": 6,
      "metadata": {
        "colab": {
          "base_uri": "https://localhost:8080/"
        },
        "id": "rJrcKWn9fPYF",
        "outputId": "d7f2069b-9df8-4cca-9941-d371aae1f3ec"
      },
      "outputs": [
        {
          "output_type": "stream",
          "name": "stdout",
          "text": [
            "dezy\n"
          ]
        }
      ],
      "source": [
        "print(epsilon_left[3:5]+epsilon_right[0:2])"
      ]
    },
    {
      "cell_type": "markdown",
      "metadata": {
        "id": "Vf53Arm6fPYG"
      },
      "source": [
        "# 1.3\n",
        "\n",
        "Return `'persimmon'`."
      ]
    },
    {
      "cell_type": "code",
      "execution_count": 5,
      "metadata": {
        "colab": {
          "base_uri": "https://localhost:8080/"
        },
        "id": "RhrWPtmQfPYJ",
        "outputId": "a39fada5-bc57-4fad-e94d-3dbdd279a7cb"
      },
      "outputs": [
        {
          "output_type": "stream",
          "name": "stdout",
          "text": [
            "persimmon\n"
          ]
        }
      ],
      "source": [
        "print(fruit[2])"
      ]
    },
    {
      "cell_type": "markdown",
      "metadata": {
        "id": "X83iz1vJfPYK"
      },
      "source": [
        "# 1.4\n",
        "\n",
        "Return `'but'`."
      ]
    },
    {
      "cell_type": "code",
      "execution_count": 6,
      "metadata": {
        "colab": {
          "base_uri": "https://localhost:8080/"
        },
        "id": "Xxypr3zFfPYL",
        "outputId": "82035e5c-ae08-4784-847c-8cd8ad6b1534"
      },
      "outputs": [
        {
          "output_type": "stream",
          "name": "stdout",
          "text": [
            "but\n"
          ]
        }
      ],
      "source": [
        "print(fruit[3][3:6])"
      ]
    },
    {
      "cell_type": "markdown",
      "metadata": {
        "id": "YD0nckaQfPYM"
      },
      "source": [
        "# 1.5\n",
        "\n",
        "Return '`{'a': 'z', 'b': 'y', 'c': 'x', 'd': 'w', 'e': 'v'}`'"
      ]
    },
    {
      "cell_type": "code",
      "execution_count": 7,
      "metadata": {
        "colab": {
          "base_uri": "https://localhost:8080/"
        },
        "id": "nZsX7vC6fPYM",
        "outputId": "28f135db-3d00-47e1-860b-799194b4547d"
      },
      "outputs": [
        {
          "output_type": "execute_result",
          "data": {
            "text/plain": [
              "{'a': 'z', 'b': 'y', 'c': 'x', 'd': 'w', 'e': 'v'}"
            ]
          },
          "metadata": {},
          "execution_count": 7
        }
      ],
      "source": [
        "dict(epsilon)"
      ]
    },
    {
      "cell_type": "markdown",
      "metadata": {
        "id": "TBL81_4rfPYN"
      },
      "source": [
        "# 1.6\n",
        "\n",
        "Return \n",
        "\n",
        "`[('c', 'x'), ('d', 'w')]`"
      ]
    },
    {
      "cell_type": "code",
      "execution_count": 8,
      "metadata": {
        "colab": {
          "base_uri": "https://localhost:8080/"
        },
        "id": "SNYz7Z__fPYO",
        "outputId": "bd73e13b-d4e3-4a36-a24f-64eb18374bde"
      },
      "outputs": [
        {
          "output_type": "stream",
          "name": "stdout",
          "text": [
            "[('c', 'x'), ('d', 'w')]\n"
          ]
        }
      ],
      "source": [
        "print(epsilon[2:4])"
      ]
    },
    {
      "cell_type": "markdown",
      "metadata": {
        "id": "HNo6njL9fPYO"
      },
      "source": [
        "# 1.7\n",
        "\n",
        "Compare the results in the next two cells.\n",
        "\n",
        "Explain why one expression raises an `Exception` and the other does not, even\n",
        "though both involve accessing data defined in `epsilon`."
      ]
    },
    {
      "cell_type": "code",
      "execution_count": 11,
      "metadata": {
        "scrolled": true,
        "colab": {
          "base_uri": "https://localhost:8080/",
          "height": 165
        },
        "id": "XFGNn8K7fPYP",
        "outputId": "046f9970-a49f-45c6-ae84-3f0fe387427b"
      },
      "outputs": [
        {
          "output_type": "error",
          "ename": "TypeError",
          "evalue": "ignored",
          "traceback": [
            "\u001b[0;31m---------------------------------------------------------------------------\u001b[0m",
            "\u001b[0;31mTypeError\u001b[0m                                 Traceback (most recent call last)",
            "\u001b[0;32m<ipython-input-11-e7d907f38a18>\u001b[0m in \u001b[0;36m<module>\u001b[0;34m()\u001b[0m\n\u001b[0;32m----> 1\u001b[0;31m \u001b[0mepsilon\u001b[0m\u001b[0;34m[\u001b[0m\u001b[0;34m'c'\u001b[0m\u001b[0;34m]\u001b[0m\u001b[0;34m\u001b[0m\u001b[0;34m\u001b[0m\u001b[0m\n\u001b[0m",
            "\u001b[0;31mTypeError\u001b[0m: list indices must be integers or slices, not str"
          ]
        }
      ],
      "source": [
        "epsilon['c']"
      ]
    },
    {
      "cell_type": "code",
      "execution_count": 12,
      "metadata": {
        "colab": {
          "base_uri": "https://localhost:8080/",
          "height": 35
        },
        "id": "_t_r7Ph0fPYQ",
        "outputId": "4c6ba1ea-8222-4561-dd49-a67ca51933b2"
      },
      "outputs": [
        {
          "output_type": "execute_result",
          "data": {
            "text/plain": [
              "'x'"
            ],
            "application/vnd.google.colaboratory.intrinsic+json": {
              "type": "string"
            }
          },
          "metadata": {},
          "execution_count": 12
        }
      ],
      "source": [
        "frittata['gamma']['c']"
      ]
    },
    {
      "cell_type": "markdown",
      "metadata": {
        "id": "ef4eoilbfPYR"
      },
      "source": [
        "epislon is a list, so an item must be selected using an index which is an integer starting at 0. \n",
        "frittata is a dictionary, so an element is selected using a key"
      ]
    },
    {
      "cell_type": "markdown",
      "metadata": {
        "id": "HWRe78t_fPYS"
      },
      "source": [
        "# Part 2 Functions, Loops"
      ]
    },
    {
      "cell_type": "markdown",
      "metadata": {
        "id": "sziMaFqofPYS"
      },
      "source": [
        "You must execute the data cell to do the problems in this section."
      ]
    },
    {
      "cell_type": "code",
      "execution_count": 5,
      "metadata": {
        "id": "GtZG4dQofPYT"
      },
      "outputs": [],
      "source": [
        "# Data cell\n",
        "\n",
        "import numpy as np\n",
        "\n",
        "xx = np.arange(0,22,3)\n",
        "\n",
        "sad_story = \"\"\"Billy the Kid lived in the Wild West long ago .\n",
        "He was an outlaw .\n",
        "He was friends with Pat Garrett who was a lawman .\n",
        "One day Pat Garrett had to bring Billy the Kid in .\n",
        "Billy would not come .\n",
        "They had a gunfight and Pat shot his friend Billy .\n",
        "\"\"\""
      ]
    },
    {
      "cell_type": "markdown",
      "metadata": {
        "id": "d3WsuUu8fPYT"
      },
      "source": [
        "# 2.1\n",
        "\n",
        "Write a loop (it can be a list comprehension) that computes a list of the odd numbers in `xx`.\n",
        "\n",
        "Do not import any python packages to help (that would suggest that you have\n",
        "not been doing the material in the first part of the class and have done a google search to solve this problem).\n",
        "\n",
        "You may find it useful to be reminded of the `%`-operator:\n",
        "\n",
        "x%y\n",
        "\n",
        "returns the remainder when x is divided by y.  So, for example,\n",
        "\n",
        "```\n",
        ">>> 17%3\n",
        "2\n",
        "```\n",
        "\n",
        "Note: although `xx` is a numpy array, for the purposes of this section you\n",
        "may treat it as if it were a list."
      ]
    },
    {
      "cell_type": "code",
      "execution_count": 10,
      "metadata": {
        "scrolled": true,
        "colab": {
          "base_uri": "https://localhost:8080/"
        },
        "id": "_y-vTgyOfPYU",
        "outputId": "5c23d36a-17d9-41de-b4a8-2a825d530200"
      },
      "outputs": [
        {
          "output_type": "stream",
          "name": "stdout",
          "text": [
            "[3, 9, 15, 21]\n"
          ]
        }
      ],
      "source": [
        "odds = [n for n in xx if n % 2 == 1]\n",
        "print(odds)"
      ]
    },
    {
      "cell_type": "markdown",
      "metadata": {
        "id": "X0h_dq9lfPYU"
      },
      "source": [
        "# 2.2\n",
        "\n",
        "Write a for-loop (it may be a list comprehension) that builds a list containing all instances of the letter  `f` in `sad_story`"
      ]
    },
    {
      "cell_type": "code",
      "execution_count": 11,
      "metadata": {
        "colab": {
          "base_uri": "https://localhost:8080/"
        },
        "id": "IW2TNYjyfPYV",
        "outputId": "a4bd653d-25a3-4226-80d4-cdac33a5db72"
      },
      "outputs": [
        {
          "output_type": "stream",
          "name": "stdout",
          "text": [
            "['B', 'i', 'l', 'l', 'y', ' ', 't', 'h', 'e', ' ', 'K', 'i', 'd', ' ', 'l', 'i', 'v', 'e', 'd', ' ', 'i', 'n', ' ', 't', 'h', 'e', ' ', 'W', 'i', 'l', 'd', ' ', 'W', 'e', 's', 't', ' ', 'l', 'o', 'n', 'g', ' ', 'a', 'g', 'o', ' ', '.', '\\n', 'H', 'e', ' ', 'w', 'a', 's', ' ', 'a', 'n', ' ', 'o', 'u', 't', 'l', 'a', 'w', ' ', '.', '\\n', 'H', 'e', ' ', 'w', 'a', 's', ' ', 'f', 'r', 'i', 'e', 'n', 'd', 's', ' ', 'w', 'i', 't', 'h', ' ', 'P', 'a', 't', ' ', 'G', 'a', 'r', 'r', 'e', 't', 't', ' ', 'w', 'h', 'o', ' ', 'w', 'a', 's', ' ', 'a', ' ', 'l', 'a', 'w', 'm', 'a', 'n', ' ', '.', '\\n', 'O', 'n', 'e', ' ', 'd', 'a', 'y', ' ', 'P', 'a', 't', ' ', 'G', 'a', 'r', 'r', 'e', 't', 't', ' ', 'h', 'a', 'd', ' ', 't', 'o', ' ', 'b', 'r', 'i', 'n', 'g', ' ', 'B', 'i', 'l', 'l', 'y', ' ', 't', 'h', 'e', ' ', 'K', 'i', 'd', ' ', 'i', 'n', ' ', '.', '\\n', 'B', 'i', 'l', 'l', 'y', ' ', 'w', 'o', 'u', 'l', 'd', ' ', 'n', 'o', 't', ' ', 'c', 'o', 'm', 'e', ' ', '.', '\\n', 'T', 'h', 'e', 'y', ' ', 'h', 'a', 'd', ' ', 'a', ' ', 'g', 'u', 'n', 'f', 'i', 'g', 'h', 't', ' ', 'a', 'n', 'd', ' ', 'P', 'a', 't', ' ', 's', 'h', 'o', 't', ' ', 'h', 'i', 's', ' ', 'f', 'r', 'i', 'e', 'n', 'd', ' ', 'B', 'i', 'l', 'l', 'y', ' ', '.', '\\n']\n",
            "['f', 'f', 'f']\n"
          ]
        }
      ],
      "source": [
        "#Convert sad_story string to list of characters\n",
        "sad_storyList = [letter for letter in sad_story]\n",
        "print(sad_storyList)\n",
        "#List comprehension, check for instances of 'f'\n",
        "f_letters= [letter for letter in sad_storyList if letter=='f']\n",
        "print(f_letters)"
      ]
    },
    {
      "cell_type": "markdown",
      "metadata": {
        "id": "dNpvD2iDfPYV"
      },
      "source": [
        "# 2.3\n",
        "\n",
        "Write a for-loop (it may be a list comprehension) that builds a list containing all instances of the word  `Kid` in `sad_story`."
      ]
    },
    {
      "cell_type": "code",
      "execution_count": 12,
      "metadata": {
        "colab": {
          "base_uri": "https://localhost:8080/"
        },
        "id": "_t26yeCWfPYV",
        "outputId": "cb2930fd-3814-4d04-842f-6b2e3d329e2d"
      },
      "outputs": [
        {
          "output_type": "stream",
          "name": "stdout",
          "text": [
            "['Billy', 'the', 'Kid', 'lived', 'in', 'the', 'Wild', 'West', 'long', 'ago', '.\\nHe', 'was', 'an', 'outlaw', '.\\nHe', 'was', 'friends', 'with', 'Pat', 'Garrett', 'who', 'was', 'a', 'lawman', '.\\nOne', 'day', 'Pat', 'Garrett', 'had', 'to', 'bring', 'Billy', 'the', 'Kid', 'in', '.\\nBilly', 'would', 'not', 'come', '.\\nThey', 'had', 'a', 'gunfight', 'and', 'Pat', 'shot', 'his', 'friend', 'Billy', '.\\n']\n",
            "['Kid', 'Kid']\n"
          ]
        }
      ],
      "source": [
        "#Convert sad_story string to list of words\n",
        "sad_story_list = sad_story.split(\" \") \n",
        "print(sad_story_list)\n",
        "#list comprehension check for substring 'Kid'\n",
        "KidList = [word for word in sad_story_list if word in 'Kid']\n",
        "print(KidList)"
      ]
    },
    {
      "cell_type": "markdown",
      "metadata": {
        "id": "nhWJ84_TfPYW"
      },
      "source": [
        "# 2.4\n",
        "\n",
        "Write a for loop that creates a dictionary containing the counts of all the words\n",
        "in `sad_story`.  Do not import any Python modules. \n",
        "\n",
        "Call your dictonary `wd_cts`.  If your program is correct `wd_cts`\n",
        "should contain the following count:\n",
        "\n",
        "```\n",
        ">>> wd_counts['in']\n",
        "2\n",
        "```"
      ]
    },
    {
      "cell_type": "code",
      "execution_count": 14,
      "metadata": {
        "colab": {
          "base_uri": "https://localhost:8080/"
        },
        "id": "7Sm8tU3JfPYX",
        "outputId": "ac7b54d7-c014-41b2-eff4-4706b0232853"
      },
      "outputs": [
        {
          "output_type": "stream",
          "name": "stdout",
          "text": [
            "{'Billy': 4, 'the': 3, 'Kid': 2, 'lived': 1, 'in': 2, 'Wild': 1, 'West': 1, 'long': 1, 'ago': 1, '.': 6, 'He': 2, 'was': 3, 'an': 1, 'outlaw': 1, 'friends': 1, 'with': 1, 'Pat': 3, 'Garrett': 2, 'who': 1, 'a': 2, 'lawman': 1, 'One': 1, 'day': 1, 'had': 2, 'to': 1, 'bring': 1, 'would': 1, 'not': 1, 'come': 1, 'They': 1, 'gunfight': 1, 'and': 1, 'shot': 1, 'his': 1, 'friend': 1}\n"
          ]
        }
      ],
      "source": [
        "words = []\n",
        "words = sad_story.split()\n",
        "freq = [words.count(i) for i in words]\n",
        "wd_cts = dict(zip(words, freq))\n",
        "print(wd_cts)"
      ]
    },
    {
      "cell_type": "code",
      "source": [
        ""
      ],
      "metadata": {
        "id": "5hJVEEKIPcds"
      },
      "execution_count": null,
      "outputs": []
    },
    {
      "cell_type": "markdown",
      "source": [
        ""
      ],
      "metadata": {
        "id": "RYE-p2XePePS"
      }
    },
    {
      "cell_type": "markdown",
      "source": [
        ""
      ],
      "metadata": {
        "id": "LjrF3e07PetV"
      }
    },
    {
      "cell_type": "markdown",
      "metadata": {
        "id": "tqWIDFi8fPYX"
      },
      "source": [
        "# 2.5\n",
        "\n",
        "Write a **function** `find_word_forms` that takes a string `text_str` and a word `form` as its **two** arguments and returns all **words** in `text_str` that begin with `form`.\n",
        "Write this without importing any Python modules.\n",
        "\n",
        "Here are some tests that your function should pass:\n",
        "\n",
        "```\n",
        ">>> find_word_forms(sad_story, 'friend')\n",
        "['friends', 'friend']\n",
        ">>> find_word_forms(\"I'm singing in the rain\", 'friend')\n",
        "[]\n",
        ">>> find_word_forms(\"I'm singing in the rain\", 'in')\n",
        "['in']\n",
        ">>> find_word_forms(\"I'm singing in the rain\", 'sing')\n",
        "['singing']\n",
        ">>> find_word_forms(\"I'm finding you fine\", 'fin')\n",
        "['finding', 'fine']\n",
        ">>> find_word_forms(sad_story, 't')\n",
        "['the', 'the', 'to', 'the']\n",
        "```\n",
        "\n",
        "Hint:  You may find it helpful to remember the\n",
        "string method `startswith`."
      ]
    },
    {
      "cell_type": "code",
      "source": [
        "def find_word_forms(text_str,form):\n",
        "  text_str_list = text_str.split()\n",
        "  print(text_str_list)\n",
        "  yes_match=[text_str.startswith(form)]\n",
        "  if yes_match:\n",
        "    print(form.split())\n",
        "  else: \n",
        "    print('[]')\n",
        "\n",
        "# take input\n",
        "#I'm finding you fine, fin\n",
        "text_str=input('Enter a string: ') \n",
        "form=input('Enter a word form: ')\n",
        "\n",
        "# calling function\n",
        "find_word_forms(text_str,form)"
      ],
      "metadata": {
        "id": "cgLbg2pMmXOb"
      },
      "execution_count": null,
      "outputs": []
    },
    {
      "cell_type": "markdown",
      "source": [
        "def find_word_forms(text_str,form):\n",
        "  text_str_list = text_str.split()\n",
        "  print (text_str_list)\n",
        "  yes_match = [text_str.startswith(form)]\n",
        "  f_letters= [letter for letter in sad_storyList if letter=='f']\n",
        "  if yes_match:\n",
        "    print(form.split())\n",
        "  else:\n",
        "    print('no match')\n",
        "\n",
        "# take input\n",
        "text_str=input('Enter a string: ')\n",
        "form=input('Enter a word form: ')\n",
        "\n",
        "# calling function\n",
        "find_word_forms(text_str,form)"
      ],
      "metadata": {
        "id": "hNFIjyJWfPYY"
      }
    },
    {
      "cell_type": "markdown",
      "metadata": {
        "id": "UFNCtqN3fPYZ"
      },
      "source": [
        "# 2.6\n",
        "\n",
        "Write a function that converts degrees to radians. You are allowed\n",
        "to use the following import statement:\n",
        "\n",
        "```\n",
        "from numpy import pi\n",
        "```\n",
        "\n",
        "The formula is\n",
        "\n",
        "```\n",
        "Radians = (Degrees/360) * 2 * pi\n",
        "```\n",
        "\n",
        "Here are some tests\n",
        "\n",
        "```\n",
        ">>> deg2rad(360)\n",
        "6.283185307179586\n",
        ">>> deg2rad(90)\n",
        "1.5707963267948966\n",
        ">>> deg2rad(72)\n",
        "1.2566370614359172\n",
        "```"
      ]
    },
    {
      "cell_type": "code",
      "execution_count": null,
      "metadata": {
        "id": "OpPKL5WufPYZ"
      },
      "outputs": [],
      "source": [
        ""
      ]
    },
    {
      "cell_type": "markdown",
      "metadata": {
        "id": "L4XLDjv2fPYa"
      },
      "source": [
        "# Part 3 Numpy arrays"
      ]
    },
    {
      "cell_type": "markdown",
      "metadata": {
        "id": "HCXjYyurfPYa"
      },
      "source": [
        "You must execute the next cell to do the problems in this section."
      ]
    },
    {
      "cell_type": "code",
      "execution_count": null,
      "metadata": {
        "id": "t0-m9QiBfPYb"
      },
      "outputs": [],
      "source": [
        "# Data cell\n",
        "\n",
        "import numpy as np\n",
        "\n",
        "xx = np.arange(0,43,3)\n",
        "\n",
        "yy = xx.reshape((3,5))"
      ]
    },
    {
      "cell_type": "markdown",
      "metadata": {
        "id": "G0XhzvQsfPYb"
      },
      "source": [
        "# 3.1\n",
        "\n",
        "Write a single Python expression that returns 6 from `xx`"
      ]
    },
    {
      "cell_type": "code",
      "execution_count": null,
      "metadata": {
        "id": "JbLvKGS_fPYc"
      },
      "outputs": [],
      "source": [
        ""
      ]
    },
    {
      "cell_type": "markdown",
      "metadata": {
        "id": "Uo0ErcqvfPYc"
      },
      "source": [
        "# 3.2\n",
        "\n",
        "Write a single Python expression  that returns all members of `xx` divisible by 6.\n",
        "Hint: Use a splice."
      ]
    },
    {
      "cell_type": "code",
      "execution_count": null,
      "metadata": {
        "id": "MqamH-3pfPYd"
      },
      "outputs": [],
      "source": [
        ""
      ]
    },
    {
      "cell_type": "markdown",
      "metadata": {
        "id": "9KAmA8I0fPYd"
      },
      "source": [
        "# 3.3\n",
        "\n",
        "Write a single Python expression  that returns all members of `xx` greater than 18.\n",
        "you may use a splice if you wish."
      ]
    },
    {
      "cell_type": "code",
      "execution_count": null,
      "metadata": {
        "id": "iBuGI9shfPYd"
      },
      "outputs": [],
      "source": [
        ""
      ]
    },
    {
      "cell_type": "markdown",
      "metadata": {
        "id": "eleWV2rmfPYe"
      },
      "source": [
        "# 3.4\n",
        "\n",
        "Write a single Python expression  that returns the following\n",
        "1D array from `yy`.\n",
        "\n",
        "```\n",
        "[15, 18, 21, 24, 27]\n",
        "```"
      ]
    },
    {
      "cell_type": "code",
      "execution_count": null,
      "metadata": {
        "id": "7_O7-PS-fPYe"
      },
      "outputs": [],
      "source": [
        ""
      ]
    },
    {
      "cell_type": "markdown",
      "metadata": {
        "id": "6ohHMHJZfPYe"
      },
      "source": [
        "# 3.5\n",
        "\n",
        "Write a single Python expression  that returns the following\n",
        "2D array from `yy`.\n",
        "\n",
        "```\n",
        "array([[ 0,  3,  6,  9, 12],\n",
        "       [15, 18, 21, 24, 27]])\n",
        "```"
      ]
    },
    {
      "cell_type": "code",
      "execution_count": null,
      "metadata": {
        "scrolled": true,
        "id": "-7RPJRRnfPYf"
      },
      "outputs": [],
      "source": [
        ""
      ]
    },
    {
      "cell_type": "markdown",
      "metadata": {
        "id": "uyIewHSHfPYf"
      },
      "source": [
        "# 3.6\n",
        "\n",
        "Write a single Python expression  that returns the following\n",
        "2D array from `yy`.\n",
        "\n",
        "```\n",
        "array([[21, 24],\n",
        "       [36, 39]])\n",
        "```"
      ]
    },
    {
      "cell_type": "code",
      "execution_count": null,
      "metadata": {
        "id": "gvIc8j6efPYf"
      },
      "outputs": [],
      "source": [
        ""
      ]
    },
    {
      "cell_type": "markdown",
      "metadata": {
        "id": "HuGC8V_kxKtK"
      },
      "source": [
        "# Part 4  Wine Data\n",
        "\n",
        "In this exercise set, we load wine data. This is a multi class dataset that has data for three different wine types  (stored in `target` below) corresponding to three\n",
        "different cultivators in a particular region of Italy.  These will just\n",
        "be referred to as class_1 calss_2 and class_3 in the description below\n",
        "and in the questions.\n",
        "The chemical properties of the wine stored in the 2D numpy array `data` below are sufficient to identity the cultivator, but it's a challenging classification problem."
      ]
    },
    {
      "cell_type": "markdown",
      "metadata": {
        "id": "WBP0Jc1PfPYg"
      },
      "source": [
        "Wine recognition dataset\n",
        "-----------------------------\n",
        "\n",
        "**Data Set Characteristics:**\n",
        "\n",
        "    :Number of Instances: 178\n",
        "    :Number of Attributes: 13 numeric, predictive attributes and the class\n",
        "    :Attribute Information:\n",
        " \t\t- Alcohol\n",
        " \t\t- Malic acid\n",
        " \t\t- Ash\n",
        "\t\t- Alcalinity of ash  \n",
        " \t\t- Magnesium\n",
        "\t\t- Total phenols\n",
        " \t\t- Flavanoids\n",
        " \t\t- Nonflavanoid phenols\n",
        " \t\t- Proanthocyanins\n",
        "\t\t- Color intensity\n",
        " \t\t- Hue\n",
        " \t\t- OD280/OD315 of diluted wines\n",
        " \t\t- Proline\n",
        "\n",
        "    - class:\n",
        "            - class_0\n",
        "            - class_1\n",
        "            - class_2\n",
        "\t\t\n",
        "     \n",
        "    The wine atributes listed in their column order.\n",
        "    \n",
        "    ============================= ==== ===== ======= =====\n",
        "                                   Min   Max   Mean     SD\n",
        "    ============================= ==== ===== ======= =====\n",
        "    Alcohol:                      11.0  14.8    13.0   0.8\n",
        "    Malic Acid:                   0.74  5.80    2.34  1.12\n",
        "    Ash:                          1.36  3.23    2.36  0.27\n",
        "    Alcalinity of Ash:            10.6  30.0    19.5   3.3\n",
        "    Magnesium:                    70.0 162.0    99.7  14.3\n",
        "    Total Phenols:                0.98  3.88    2.29  0.63\n",
        "    Flavanoids:                   0.34  5.08    2.03  1.00\n",
        "    Nonflavanoid Phenols:         0.13  0.66    0.36  0.12\n",
        "    Proanthocyanins:              0.41  3.58    1.59  0.57\n",
        "    Colour Intensity:              1.3  13.0     5.1   2.3\n",
        "    Hue:                          0.48  1.71    0.96  0.23\n",
        "    OD280/OD315 of diluted wines: 1.27  4.00    2.61  0.71\n",
        "    Proline:                       278  1680     746   315\n",
        "    ============================= ==== ===== ======= =====\n",
        "\n",
        "    :Missing Attribute Values: None\n",
        "    :Class Distribution: class_0 (59), class_1 (71), class_2 (48)\n",
        "    :Creator: R.A. Fisher\n",
        "    :Donor: Michael Marshall (MARSHALL%PLU@io.arc.nasa.gov)\n",
        "    :Date: July, 1988\n",
        "\n",
        "This is a copy of UCI ML Wine recognition datasets.\n",
        "https://archive.ics.uci.edu/ml/machine-learning-databases/wine/wine.data\n",
        "\n",
        "The data is the results of a chemical analysis of wines grown in the same\n",
        "region in Italy by three different cultivators. There are thirteen different\n",
        "measurements taken for different constituents found in the three types of\n",
        "wine.\n",
        "\n",
        "Original Owners: \n",
        "\n",
        "Forina, M. et al, PARVUS - \n",
        "An Extendible Package for Data Exploration, Classification and Correlation. \n",
        "Institute of Pharmaceutical and Food Analysis and Technologies,\n",
        "Via Brigata Salerno, 16147 Genoa, Italy.\n",
        "\n",
        "Citation:\n",
        "\n",
        "Lichman, M. (2013). UCI Machine Learning Repository\n",
        "[https://archive.ics.uci.edu/ml]. Irvine, CA: University of California,\n",
        "School of Information and Computer Science. \n"
      ]
    },
    {
      "cell_type": "markdown",
      "metadata": {
        "id": "PqhN58rofPYh"
      },
      "source": [
        "You must evaluate the next cell to do the problems in this section."
      ]
    },
    {
      "cell_type": "code",
      "execution_count": null,
      "metadata": {
        "id": "FSDKgzaKfPYi"
      },
      "outputs": [],
      "source": [
        "# Data cell\n",
        "\n",
        "from sklearn.datasets import load_wine\n",
        "wdata = load_wine()\n",
        "data = wdata.data\n",
        "target = wdata.target"
      ]
    },
    {
      "cell_type": "markdown",
      "metadata": {
        "id": "Ui4vKK3RfPYi"
      },
      "source": [
        "**4.0**  \n",
        "\n",
        "Write a Python expression that returns a Boolean array defining\n",
        "the set of rows of the `data` array with ash level less than 2.36  and flavinoids greater than 2.03."
      ]
    },
    {
      "cell_type": "code",
      "execution_count": null,
      "metadata": {
        "id": "QOWVws8qfPYi"
      },
      "outputs": [],
      "source": [
        ""
      ]
    },
    {
      "cell_type": "markdown",
      "metadata": {
        "id": "VMo4ADDKfPYj"
      },
      "source": [
        "**4.1**\n",
        "\n",
        "Write a Python expression that returns the rows of the `data` array \n",
        "representing  wine samples with ash level less than 2.36  and flavinoids greater\n",
        "than 2.03.  "
      ]
    },
    {
      "cell_type": "code",
      "execution_count": null,
      "metadata": {
        "id": "eyhLDM85fPYj"
      },
      "outputs": [],
      "source": [
        ""
      ]
    },
    {
      "cell_type": "markdown",
      "metadata": {
        "id": "LxNSp39IfPYj"
      },
      "source": [
        "**4.2**\n",
        "\n",
        "How many such rows are there?  Show the computation."
      ]
    },
    {
      "cell_type": "code",
      "execution_count": null,
      "metadata": {
        "id": "4gcWhT18fPYk"
      },
      "outputs": [],
      "source": [
        ""
      ]
    },
    {
      "cell_type": "markdown",
      "metadata": {
        "id": "8Nc6CuiAfPYk"
      },
      "source": [
        "**4.3**\n",
        "\n",
        "Write a Python expression that returns the rows of the `data` array \n",
        "representing wine samples such that they are not of class_1 and they\n",
        "have  ash levels less than 2.36  and flavinoids greater than 2.03."
      ]
    },
    {
      "cell_type": "code",
      "execution_count": null,
      "metadata": {
        "id": "z5MVpLqLfPYk"
      },
      "outputs": [],
      "source": [
        ""
      ]
    },
    {
      "cell_type": "markdown",
      "metadata": {
        "id": "DWXUpBF5fPYk"
      },
      "source": [
        "**4.4**\n",
        "\n",
        "How many such rows are there?  Show the computation."
      ]
    },
    {
      "cell_type": "code",
      "execution_count": null,
      "metadata": {
        "id": "HlCP17iXfPYl"
      },
      "outputs": [],
      "source": [
        ""
      ]
    }
  ],
  "metadata": {
    "colab": {
      "name": "Boolean_exercises_in_numpy.ipynb",
      "provenance": []
    },
    "kernelspec": {
      "display_name": "Python 3",
      "language": "python",
      "name": "python3"
    },
    "language_info": {
      "codemirror_mode": {
        "name": "ipython",
        "version": 3
      },
      "file_extension": ".py",
      "mimetype": "text/x-python",
      "name": "python",
      "nbconvert_exporter": "python",
      "pygments_lexer": "ipython3",
      "version": "3.8.5"
    }
  },
  "nbformat": 4,
  "nbformat_minor": 0
}