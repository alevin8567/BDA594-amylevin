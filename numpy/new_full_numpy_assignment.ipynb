{
  "cells": [
    {
      "cell_type": "markdown",
      "metadata": {
        "id": "Y4wuS60lJSVQ"
      },
      "source": [
        "## Numpy assignment"
      ]
    },
    {
      "cell_type": "markdown",
      "metadata": {
        "id": "cYy8-Wq3JSVR"
      },
      "source": [
        "## 1 Preliminaries"
      ]
    },
    {
      "cell_type": "code",
      "execution_count": 31,
      "metadata": {
        "id": "5Z5-LLD_JSVS"
      },
      "outputs": [],
      "source": [
        "# The usual preamble\n",
        "import numpy as np"
      ]
    },
    {
      "cell_type": "markdown",
      "metadata": {
        "id": "MN3eCTN8JSVV"
      },
      "source": [
        "## Numpy"
      ]
    },
    {
      "cell_type": "code",
      "execution_count": 6,
      "metadata": {
        "id": "TCHqsJXxJSVW"
      },
      "outputs": [],
      "source": [
        "import numpy as np\n",
        "x = np.array([2,3,1,0])\n",
        "y =np.arange(10)\n",
        "z = 2 + x"
      ]
    },
    {
      "cell_type": "markdown",
      "metadata": {
        "id": "n1xzCtm3JSVY"
      },
      "source": [
        "Write expressions in the next cell to retrieve 1 from `x`, 3 from `y`, and 3 from `z`."
      ]
    },
    {
      "cell_type": "code",
      "execution_count": 7,
      "metadata": {
        "id": "96FDYv0oJSVZ",
        "colab": {
          "base_uri": "https://localhost:8080/",
          "height": 0
        },
        "outputId": "e6c2b93e-c9e9-4b19-828c-12f2812c005d"
      },
      "outputs": [
        {
          "output_type": "stream",
          "name": "stdout",
          "text": [
            "1\n",
            "3\n",
            "3\n"
          ]
        }
      ],
      "source": [
        "print(x[2])\n",
        "print(y[3])\n",
        "print(z[2])"
      ]
    },
    {
      "cell_type": "markdown",
      "metadata": {
        "id": "t17iimSbJSVb"
      },
      "source": [
        "In the next cell, write an expression that generates a 5 by 5 array filled with zeros, and another  that generates a 1 by 1 array with a 1 in it."
      ]
    },
    {
      "cell_type": "code",
      "execution_count": 8,
      "metadata": {
        "id": "s8k51GlRJSVb",
        "colab": {
          "base_uri": "https://localhost:8080/",
          "height": 0
        },
        "outputId": "a910fd78-6def-4971-8659-7c6cbe4457bd"
      },
      "outputs": [
        {
          "output_type": "stream",
          "name": "stdout",
          "text": [
            "[[0. 0. 0. 0. 0.]\n",
            " [0. 0. 0. 0. 0.]\n",
            " [0. 0. 0. 0. 0.]\n",
            " [0. 0. 0. 0. 0.]\n",
            " [0. 0. 0. 0. 0.]]\n"
          ]
        }
      ],
      "source": [
        "print(np.zeros((5,5)))"
      ]
    },
    {
      "cell_type": "code",
      "execution_count": 9,
      "metadata": {
        "colab": {
          "base_uri": "https://localhost:8080/",
          "height": 0
        },
        "id": "ITW7WUE5BLB6",
        "outputId": "0d95b867-e69f-484c-d0ae-a54666b230db"
      },
      "outputs": [
        {
          "output_type": "stream",
          "name": "stdout",
          "text": [
            "[[1]]\n"
          ]
        }
      ],
      "source": [
        "print(np.full((1,1),1))"
      ]
    },
    {
      "cell_type": "markdown",
      "metadata": {
        "id": "wSbS2Fo5JSVe"
      },
      "source": [
        "<style>\n",
        "    @font-face {\n",
        "        font-family: \"Computer Modern\";\n",
        "        src: url('http://mirrors.ctan.org/fonts/cm-unicode/fonts/otf/cmunss.otf');\n",
        "    }\n",
        "    div.cell{\n",
        "        width:800px;\n",
        "        margin-left:16% !important;\n",
        "        margin-right:auto;\n",
        "    }\n",
        "    h1 {\n",
        "        font-family: Helvetica, serif;\n",
        "    }\n",
        "    h4{\n",
        "        margin-top:12px;\n",
        "        margin-bottom: 3px;\n",
        "       }\n",
        "    div.text_cell_render{\n",
        "        font-family: Computer Modern, \"Helvetica Neue\", Arial, Helvetica, Geneva, sans-serif;\n",
        "        line-height: 145%;\n",
        "        font-size: 130%;\n",
        "        width:800px;\n",
        "        margin-left:auto;\n",
        "        margin-right:auto;\n",
        "    }\n",
        "    .CodeMirror{\n",
        "            font-family: \"Source Code Pro\", source-code-pro,Consolas, monospace;\n",
        "    }\n",
        "    .text_cell_render h5 {\n",
        "        font-weight: 300;\n",
        "        font-size: 22pt;\n",
        "        color: #4057A1;\n",
        "        font-style: italic;\n",
        "        margin-bottom: .5em;\n",
        "        margin-top: 0.5em;\n",
        "        display: block;\n",
        "    }\n",
        "    \n",
        "    .warning{\n",
        "        color: rgb( 240, 20, 20 )\n",
        "        }  "
      ]
    },
    {
      "cell_type": "markdown",
      "metadata": {
        "id": "7BvfGKHjJSVe"
      },
      "source": [
        "In the next cell, write an expression that uses an assignment to a splice to make all the negative values in `a` be 0. "
      ]
    },
    {
      "cell_type": "code",
      "execution_count": 10,
      "metadata": {
        "id": "wvKZPhcAJSVe"
      },
      "outputs": [],
      "source": [
        "a = np.arange(10,-1,-1) - 3\n"
      ]
    },
    {
      "cell_type": "markdown",
      "metadata": {
        "id": "tyorEGVPBLB_"
      },
      "source": [
        "One way to do this is:"
      ]
    },
    {
      "cell_type": "code",
      "execution_count": 11,
      "metadata": {
        "colab": {
          "base_uri": "https://localhost:8080/",
          "height": 0
        },
        "id": "SjQn4dSYBLCB",
        "outputId": "172b8ddb-5c00-4b87-eb2a-34dd1d6eb7ad"
      },
      "outputs": [
        {
          "output_type": "execute_result",
          "data": {
            "text/plain": [
              "array([7, 6, 5, 4, 3, 2, 1, 0, 0, 0, 0])"
            ]
          },
          "metadata": {},
          "execution_count": 11
        }
      ],
      "source": [
        "a[-3:] = 0\n",
        "a"
      ]
    },
    {
      "cell_type": "markdown",
      "metadata": {
        "id": "Vka6J_BzBLCC"
      },
      "source": [
        "But see if you can do it by writing an expression that make all negative values in `a`\n",
        "be 0 no matter where they occur in `a`.  Hint: Use a Boolean conditipn"
      ]
    },
    {
      "cell_type": "code",
      "execution_count": 27,
      "metadata": {
        "colab": {
          "base_uri": "https://localhost:8080/",
          "height": 0
        },
        "id": "ooF8J4G0BLCC",
        "outputId": "4b26d051-59e3-4ab3-fd9e-a92f5da44038"
      },
      "outputs": [
        {
          "output_type": "stream",
          "name": "stdout",
          "text": [
            "[ 7  6  5  4  3  2  1  0 -1 -2 -3]\n",
            "[7 6 5 4 3 2 1 0 0 0 0]\n"
          ]
        }
      ],
      "source": [
        "a = np.arange(10,-1,-1)-3\n",
        "print(a)\n",
        "a[a<0] = 0\n",
        "print(a)\n",
        "#Source: https://www.w3resource.com/python-exercises/numpy/python-numpy-exercise-90.php"
      ]
    },
    {
      "cell_type": "markdown",
      "metadata": {
        "id": "hM1ErfO7BLCD"
      },
      "source": [
        "Another option is to use `numpy` `where`, combined with an assignment.\n",
        "The form is\n",
        "\n",
        "```\n",
        ">>> np.where(condition, x, y)\n",
        "```\n",
        "\n",
        "where `condition`, `x` and `y` are all arrays of the same size (or are broadcastable to the same size).\n",
        "Return an array containing the members of `x` for which `condition` is `True`; otherwise return the corresponding member  of `y`.  It can be read \"`x` where `condition`, else\n",
        "`y`\".\n",
        "\n",
        "```\n",
        ">>> a = np.array([1, 4.1, 9, 16])\n",
        ">>> b = np.array([1,2,3,4])\n",
        ">>> np.where((np.sqrt(a) - b) == 0,np.sqrt(a),b)\n",
        "array([1., 2., 3., 4.])\n",
        "```"
      ]
    },
    {
      "cell_type": "code",
      "execution_count": 16,
      "metadata": {
        "id": "jgksMZUgBLCE"
      },
      "outputs": [],
      "source": [
        "a = np.arange(10,-1,-1) - 3\n",
        "a = np.where(a < 0, 0, a)"
      ]
    },
    {
      "cell_type": "code",
      "execution_count": 17,
      "metadata": {
        "colab": {
          "base_uri": "https://localhost:8080/",
          "height": 0
        },
        "id": "LxRtJX6tBLCF",
        "outputId": "6f4b4e2b-7dbf-4eb3-89a6-29caba5ad7fd"
      },
      "outputs": [
        {
          "output_type": "execute_result",
          "data": {
            "text/plain": [
              "array([7, 6, 5, 4, 3, 2, 1, 0, 0, 0, 0])"
            ]
          },
          "metadata": {},
          "execution_count": 17
        }
      ],
      "source": [
        "a"
      ]
    },
    {
      "cell_type": "markdown",
      "metadata": {
        "id": "m7NpYSRgJSVg"
      },
      "source": [
        "In the next cell write an expression that produces an array containing result of multiplying 7 by each of the first 12 integers (1 - 12). There's a hard way to do this and an easy way.  The easy way uses elementwise operations."
      ]
    },
    {
      "cell_type": "code",
      "execution_count": 36,
      "metadata": {
        "id": "7yiKGc0HJSVh",
        "colab": {
          "base_uri": "https://localhost:8080/",
          "height": 0
        },
        "outputId": "8d923e2a-5d2d-48cf-e973-87810565a230"
      },
      "outputs": [
        {
          "output_type": "stream",
          "name": "stdout",
          "text": [
            "[ 1  2  3  4  5  6  7  8  9 10 11 12]\n"
          ]
        },
        {
          "output_type": "execute_result",
          "data": {
            "text/plain": [
              "array([ 7, 14, 21, 28, 35, 42, 49, 56, 63, 70, 77, 84])"
            ]
          },
          "metadata": {},
          "execution_count": 36
        }
      ],
      "source": [
        "print(np.arange(1,13))\n",
        "7 * np.arange(1,13)"
      ]
    },
    {
      "cell_type": "markdown",
      "metadata": {
        "id": "o2TyTiOGJSVj"
      },
      "source": [
        "## 2D arrays"
      ]
    },
    {
      "cell_type": "code",
      "execution_count": 37,
      "metadata": {
        "id": "FzCLv6SiJSVj"
      },
      "outputs": [],
      "source": [
        "import numpy as np\n",
        "room_matrix = \\\n",
        "np.array(\n",
        "[[6,  3, 4, 1],\n",
        "[5,  2, 3, 2],\n",
        "[8,  3, 6, 2],\n",
        "[5,  1, 3, 1],\n",
        "[10, 4, 7, 2]])\n",
        "\n",
        "cost_vector = np.array([40, 175, 90, 450])"
      ]
    },
    {
      "cell_type": "markdown",
      "metadata": {
        "id": "XjUwZF0uJSVl"
      },
      "source": [
        "In the next cell write an express that retrieves the last column of `room_matrix`."
      ]
    },
    {
      "cell_type": "code",
      "execution_count": 113,
      "metadata": {
        "id": "QLIMA6dDJSVm",
        "colab": {
          "base_uri": "https://localhost:8080/",
          "height": 0
        },
        "outputId": "dda17989-74c0-4ccb-b980-7670369fd712"
      },
      "outputs": [
        {
          "output_type": "stream",
          "name": "stdout",
          "text": [
            "[[ 6  3  4  1]\n",
            " [ 5  2  3  2]\n",
            " [ 8  3  6  2]\n",
            " [ 5  1  3  1]\n",
            " [10  4  7  2]]\n",
            "[1 2 2 1 2]\n"
          ]
        }
      ],
      "source": [
        "#Source: bottom of https://stackoverflow.com/questions/47542643/separate-last-column-from-the-actual-dataset-using-numpy\n",
        "print(room_matrix)\n",
        "print(room_matrix[:, -1])"
      ]
    },
    {
      "cell_type": "markdown",
      "metadata": {
        "id": "oTcVUAwZJSVo"
      },
      "source": [
        "In the next cell, write an expression that retrieves the third row of `room_matrix`."
      ]
    },
    {
      "cell_type": "code",
      "execution_count": 72,
      "metadata": {
        "id": "NPYhI-MNJSVo",
        "colab": {
          "base_uri": "https://localhost:8080/",
          "height": 0
        },
        "outputId": "2573baea-735d-43dd-8d01-add82bf252ae"
      },
      "outputs": [
        {
          "output_type": "stream",
          "name": "stdout",
          "text": [
            "[[ 6  3  4  1]\n",
            " [ 5  2  3  2]\n",
            " [ 8  3  6  2]\n",
            " [ 5  1  3  1]\n",
            " [10  4  7  2]]\n",
            "3rd row: [8 3 6 2]\n"
          ]
        }
      ],
      "source": [
        "print(room_matrix)\n",
        "print(\"3rd row:\",room_matrix[2,:])"
      ]
    },
    {
      "cell_type": "markdown",
      "metadata": {
        "id": "g7ukLsINJSVq"
      },
      "source": [
        "In the next cell write an expression that retrieves the first two elements of the second column of `room_matrix`"
      ]
    },
    {
      "cell_type": "code",
      "execution_count": 74,
      "metadata": {
        "id": "kBlJwiNHJSVq",
        "colab": {
          "base_uri": "https://localhost:8080/",
          "height": 0
        },
        "outputId": "2c07fd43-de20-49c5-f028-4faf1330ac59"
      },
      "outputs": [
        {
          "output_type": "stream",
          "name": "stdout",
          "text": [
            "2nd column: [3 2 3 1 4]\n",
            "1st two elements: [3 2]\n"
          ]
        }
      ],
      "source": [
        "a=room_matrix[:,1]\n",
        "print(\"2nd column:\",a)\n",
        "print(\"1st two elements:\",a[0:2])"
      ]
    },
    {
      "cell_type": "markdown",
      "metadata": {
        "id": "PFL_HNz8JSVs"
      },
      "source": [
        "In the next cell write an expression that retrieves the following submatrix from `room_matrix`:\n",
        "\n",
        "```\n",
        "array([[2,3],\n",
        "       [3,6]])\n",
        "```"
      ]
    },
    {
      "cell_type": "code",
      "execution_count": 89,
      "metadata": {
        "id": "4pJVgJJAJSVt",
        "colab": {
          "base_uri": "https://localhost:8080/",
          "height": 0
        },
        "outputId": "fe826eec-b19e-4750-c3e2-05a8365ade63"
      },
      "outputs": [
        {
          "output_type": "stream",
          "name": "stdout",
          "text": [
            "[[ 6  3  4  1]\n",
            " [ 5  2  3  2]\n",
            " [ 8  3  6  2]\n",
            " [ 5  1  3  1]\n",
            " [10  4  7  2]]\n",
            "[[2 3]\n",
            " [3 6]]\n"
          ]
        }
      ],
      "source": [
        "print(room_matrix)\n",
        "submatrix=room_matrix[1:3,1:3]\n",
        "print(submatrix)"
      ]
    },
    {
      "cell_type": "markdown",
      "metadata": {
        "id": "5Rn-NzcTJSVv"
      },
      "source": [
        "In the next cell, write an expression that returns a Boolean array that identifies the members of `room_matrix` which are greater than or equal to 7."
      ]
    },
    {
      "cell_type": "code",
      "execution_count": 87,
      "metadata": {
        "id": "qOJ3bDQzJSVv",
        "colab": {
          "base_uri": "https://localhost:8080/",
          "height": 0
        },
        "outputId": "0d4cdc55-9ab8-4899-dd83-7b6bc12a0714"
      },
      "outputs": [
        {
          "output_type": "stream",
          "name": "stdout",
          "text": [
            "[[ 6  3  4  1]\n",
            " [ 5  2  3  2]\n",
            " [ 8  3  6  2]\n",
            " [ 5  1  3  1]\n",
            " [10  4  7  2]]\n"
          ]
        },
        {
          "output_type": "execute_result",
          "data": {
            "text/plain": [
              "array([[False, False, False, False],\n",
              "       [False, False, False, False],\n",
              "       [ True, False, False, False],\n",
              "       [False, False, False, False],\n",
              "       [ True, False,  True, False]])"
            ]
          },
          "metadata": {},
          "execution_count": 87
        }
      ],
      "source": [
        "print(room_matrix)\n",
        "room_matrix >= 7"
      ]
    },
    {
      "cell_type": "markdown",
      "metadata": {
        "id": "C2DSqCenJp_s"
      },
      "source": [
        "In the next cell, write an expression that produces an array containing the items in `room_matrix` which are greater than or equal to 7.  Note:  This question and the previous question do not have the same answer."
      ]
    },
    {
      "cell_type": "code",
      "execution_count": 94,
      "metadata": {
        "colab": {
          "base_uri": "https://localhost:8080/",
          "height": 0
        },
        "id": "4fwVyMYJBLCN",
        "outputId": "ebece5d0-1d08-42c0-9ab6-087ccf8a7549"
      },
      "outputs": [
        {
          "output_type": "stream",
          "name": "stdout",
          "text": [
            "[[ 6  3  4  1]\n",
            " [ 5  2  3  2]\n",
            " [ 8  3  6  2]\n",
            " [ 5  1  3  1]\n",
            " [10  4  7  2]]\n"
          ]
        },
        {
          "output_type": "execute_result",
          "data": {
            "text/plain": [
              "array([ 8, 10,  7])"
            ]
          },
          "metadata": {},
          "execution_count": 94
        }
      ],
      "source": [
        "print(room_matrix)\n",
        "room_matrix[room_matrix>=7]"
      ]
    },
    {
      "cell_type": "markdown",
      "metadata": {
        "id": "wwR0EsO5JSVx"
      },
      "source": [
        "## Iris data exercise"
      ]
    },
    {
      "cell_type": "markdown",
      "metadata": {
        "id": "-sAlD8q_JSVx"
      },
      "source": [
        "In the next cell, use a Boolean mask to return all the rows of the iris data set whose column 3 value is greater than 1.8 (I mean the column whose **index** is 3, the last column).\n",
        "The cell is not empty because you have been provided with the code which loads the data.\n",
        "So you should keep that code and **add to it**."
      ]
    },
    {
      "cell_type": "code",
      "execution_count": 127,
      "metadata": {
        "id": "RWsm4jcbJSVy",
        "colab": {
          "base_uri": "https://localhost:8080/",
          "height": 0
        },
        "outputId": "908aa182-6d49-41e4-f228-e9511b5145ec"
      },
      "outputs": [
        {
          "output_type": "execute_result",
          "data": {
            "text/plain": [
              "array([[6.3, 3.3, 6. , 2.5],\n",
              "       [5.8, 2.7, 5.1, 1.9],\n",
              "       [7.1, 3. , 5.9, 2.1],\n",
              "       [6.5, 3. , 5.8, 2.2],\n",
              "       [7.6, 3. , 6.6, 2.1],\n",
              "       [7.2, 3.6, 6.1, 2.5],\n",
              "       [6.5, 3.2, 5.1, 2. ],\n",
              "       [6.4, 2.7, 5.3, 1.9],\n",
              "       [6.8, 3. , 5.5, 2.1],\n",
              "       [5.7, 2.5, 5. , 2. ],\n",
              "       [5.8, 2.8, 5.1, 2.4],\n",
              "       [6.4, 3.2, 5.3, 2.3],\n",
              "       [7.7, 3.8, 6.7, 2.2],\n",
              "       [7.7, 2.6, 6.9, 2.3],\n",
              "       [6.9, 3.2, 5.7, 2.3],\n",
              "       [5.6, 2.8, 4.9, 2. ],\n",
              "       [7.7, 2.8, 6.7, 2. ],\n",
              "       [6.7, 3.3, 5.7, 2.1],\n",
              "       [6.4, 2.8, 5.6, 2.1],\n",
              "       [7.4, 2.8, 6.1, 1.9],\n",
              "       [7.9, 3.8, 6.4, 2. ],\n",
              "       [6.4, 2.8, 5.6, 2.2],\n",
              "       [7.7, 3. , 6.1, 2.3],\n",
              "       [6.3, 3.4, 5.6, 2.4],\n",
              "       [6.9, 3.1, 5.4, 2.1],\n",
              "       [6.7, 3.1, 5.6, 2.4],\n",
              "       [6.9, 3.1, 5.1, 2.3],\n",
              "       [5.8, 2.7, 5.1, 1.9],\n",
              "       [6.8, 3.2, 5.9, 2.3],\n",
              "       [6.7, 3.3, 5.7, 2.5],\n",
              "       [6.7, 3. , 5.2, 2.3],\n",
              "       [6.3, 2.5, 5. , 1.9],\n",
              "       [6.5, 3. , 5.2, 2. ],\n",
              "       [6.2, 3.4, 5.4, 2.3]])"
            ]
          },
          "metadata": {},
          "execution_count": 127
        }
      ],
      "source": [
        "from sklearn.datasets import load_iris\n",
        "data = load_iris()\n",
        "features = data['data']\n",
        "target = data['target']\n",
        "#Source: https://gawron.sdsu.edu/python_for_ss/course_core/book_draft/data/numpy.html\n",
        "#Use Boolean vector to identify rows > 1.8 in column 3\n",
        "features[features[:,3] > 1.8]"
      ]
    },
    {
      "cell_type": "markdown",
      "metadata": {
        "id": "30mkWyeOJSV0"
      },
      "source": [
        "In the next cell, use a Boolean array to return all the rows representing members of class 2 in the iris data set (the Boolean array is not the answer; it is used in retrieving the answer)."
      ]
    },
    {
      "cell_type": "code",
      "execution_count": 129,
      "metadata": {
        "id": "b9epMASDJSV0",
        "colab": {
          "base_uri": "https://localhost:8080/",
          "height": 0
        },
        "outputId": "caf4d737-507f-4316-f237-295ece4c303f"
      },
      "outputs": [
        {
          "output_type": "execute_result",
          "data": {
            "text/plain": [
              "array([[6.3, 3.3, 6. , 2.5],\n",
              "       [5.8, 2.7, 5.1, 1.9],\n",
              "       [7.1, 3. , 5.9, 2.1],\n",
              "       [6.3, 2.9, 5.6, 1.8],\n",
              "       [6.5, 3. , 5.8, 2.2],\n",
              "       [7.6, 3. , 6.6, 2.1],\n",
              "       [4.9, 2.5, 4.5, 1.7],\n",
              "       [7.3, 2.9, 6.3, 1.8],\n",
              "       [6.7, 2.5, 5.8, 1.8],\n",
              "       [7.2, 3.6, 6.1, 2.5],\n",
              "       [6.5, 3.2, 5.1, 2. ],\n",
              "       [6.4, 2.7, 5.3, 1.9],\n",
              "       [6.8, 3. , 5.5, 2.1],\n",
              "       [5.7, 2.5, 5. , 2. ],\n",
              "       [5.8, 2.8, 5.1, 2.4],\n",
              "       [6.4, 3.2, 5.3, 2.3],\n",
              "       [6.5, 3. , 5.5, 1.8],\n",
              "       [7.7, 3.8, 6.7, 2.2],\n",
              "       [7.7, 2.6, 6.9, 2.3],\n",
              "       [6. , 2.2, 5. , 1.5],\n",
              "       [6.9, 3.2, 5.7, 2.3],\n",
              "       [5.6, 2.8, 4.9, 2. ],\n",
              "       [7.7, 2.8, 6.7, 2. ],\n",
              "       [6.3, 2.7, 4.9, 1.8],\n",
              "       [6.7, 3.3, 5.7, 2.1],\n",
              "       [7.2, 3.2, 6. , 1.8],\n",
              "       [6.2, 2.8, 4.8, 1.8],\n",
              "       [6.1, 3. , 4.9, 1.8],\n",
              "       [6.4, 2.8, 5.6, 2.1],\n",
              "       [7.2, 3. , 5.8, 1.6],\n",
              "       [7.4, 2.8, 6.1, 1.9],\n",
              "       [7.9, 3.8, 6.4, 2. ],\n",
              "       [6.4, 2.8, 5.6, 2.2],\n",
              "       [6.3, 2.8, 5.1, 1.5],\n",
              "       [6.1, 2.6, 5.6, 1.4],\n",
              "       [7.7, 3. , 6.1, 2.3],\n",
              "       [6.3, 3.4, 5.6, 2.4],\n",
              "       [6.4, 3.1, 5.5, 1.8],\n",
              "       [6. , 3. , 4.8, 1.8],\n",
              "       [6.9, 3.1, 5.4, 2.1],\n",
              "       [6.7, 3.1, 5.6, 2.4],\n",
              "       [6.9, 3.1, 5.1, 2.3],\n",
              "       [5.8, 2.7, 5.1, 1.9],\n",
              "       [6.8, 3.2, 5.9, 2.3],\n",
              "       [6.7, 3.3, 5.7, 2.5],\n",
              "       [6.7, 3. , 5.2, 2.3],\n",
              "       [6.3, 2.5, 5. , 1.9],\n",
              "       [6.5, 3. , 5.2, 2. ],\n",
              "       [6.2, 3.4, 5.4, 2.3],\n",
              "       [5.9, 3. , 5.1, 1.8]])"
            ]
          },
          "metadata": {},
          "execution_count": 129
        }
      ],
      "source": [
        "features[target==2,:]"
      ]
    },
    {
      "cell_type": "markdown",
      "metadata": {
        "id": "LD7NX3Y2JSV2"
      },
      "source": [
        "Extra credit:  In the next cell write an expression -- or expressions -- which returns\n",
        "all the members of class 2 in the data whose column 3 value is greater than 1.8.\n",
        "\n",
        "Hint: Set a variable to the result of one of your answers to the last two questions.\n",
        "That result is an array, and you can do more indexing on it."
      ]
    },
    {
      "cell_type": "markdown",
      "metadata": {
        "id": "NkToOZp1BLCQ"
      },
      "source": [
        "Two Solutions.  The one not hinted at uses Boolean array conjunction."
      ]
    },
    {
      "cell_type": "markdown",
      "metadata": {
        "id": "xK9BpPUkBLCQ"
      },
      "source": [
        "Solution 2.  This one uses `&`.  Say you have X an array of numbers and you want a Boolean array\n",
        "that tells you exactly which numbers are even (`X%2 == 0`) and greater than 4 (`X > 4`).  You can\n",
        "combine these two conditions using `7`:"
      ]
    },
    {
      "cell_type": "code",
      "execution_count": 130,
      "metadata": {
        "id": "Hake5bryJSV2",
        "colab": {
          "base_uri": "https://localhost:8080/",
          "height": 0
        },
        "outputId": "e3e82ac9-c075-4d62-be07-c2d3038b7292"
      },
      "outputs": [
        {
          "output_type": "stream",
          "name": "stdout",
          "text": [
            "[[ 0  1  2  3  4]\n",
            " [ 5  6  7  8  9]\n",
            " [10 11 12 13 14]]\n"
          ]
        },
        {
          "output_type": "execute_result",
          "data": {
            "text/plain": [
              "array([[False, False, False, False, False],\n",
              "       [False,  True, False,  True, False],\n",
              "       [ True, False,  True, False,  True]])"
            ]
          },
          "metadata": {},
          "execution_count": 130
        }
      ],
      "source": [
        "X = np.arange(15).reshape((3,5))\n",
        "print(X)\n",
        "(X%2 == 0) & (X > 4)"
      ]
    },
    {
      "cell_type": "markdown",
      "metadata": {
        "id": "8tckQEiMBLCT"
      },
      "source": [
        "To find solution 2, write a single expression that uses `&` which returns\n",
        "all the rows of the Iris data class 2 in the data whose column 3 value is greater than 1.8.\n",
        "\n",
        "This should produce a 2D array with 4 columns and 34 rows."
      ]
    },
    {
      "cell_type": "code",
      "execution_count": 135,
      "metadata": {
        "colab": {
          "base_uri": "https://localhost:8080/",
          "height": 0
        },
        "id": "fL9xFmyEBLCT",
        "outputId": "d1ebddec-c2ad-4a7b-ac20-22b571b93073"
      },
      "outputs": [
        {
          "output_type": "stream",
          "name": "stdout",
          "text": [
            "[[6.3 3.3 6.  2.5]\n",
            " [5.8 2.7 5.1 1.9]\n",
            " [7.1 3.  5.9 2.1]\n",
            " [6.5 3.  5.8 2.2]\n",
            " [7.6 3.  6.6 2.1]\n",
            " [7.2 3.6 6.1 2.5]\n",
            " [6.5 3.2 5.1 2. ]\n",
            " [6.4 2.7 5.3 1.9]\n",
            " [6.8 3.  5.5 2.1]\n",
            " [5.7 2.5 5.  2. ]\n",
            " [5.8 2.8 5.1 2.4]\n",
            " [6.4 3.2 5.3 2.3]\n",
            " [7.7 3.8 6.7 2.2]\n",
            " [7.7 2.6 6.9 2.3]\n",
            " [6.9 3.2 5.7 2.3]\n",
            " [5.6 2.8 4.9 2. ]\n",
            " [7.7 2.8 6.7 2. ]\n",
            " [6.7 3.3 5.7 2.1]\n",
            " [6.4 2.8 5.6 2.1]\n",
            " [7.4 2.8 6.1 1.9]\n",
            " [7.9 3.8 6.4 2. ]\n",
            " [6.4 2.8 5.6 2.2]\n",
            " [7.7 3.  6.1 2.3]\n",
            " [6.3 3.4 5.6 2.4]\n",
            " [6.9 3.1 5.4 2.1]\n",
            " [6.7 3.1 5.6 2.4]\n",
            " [6.9 3.1 5.1 2.3]\n",
            " [5.8 2.7 5.1 1.9]\n",
            " [6.8 3.2 5.9 2.3]\n",
            " [6.7 3.3 5.7 2.5]\n",
            " [6.7 3.  5.2 2.3]\n",
            " [6.3 2.5 5.  1.9]\n",
            " [6.5 3.  5.2 2. ]\n",
            " [6.2 3.4 5.4 2.3]]\n"
          ]
        }
      ],
      "source": [
        "#Boolean array (solution 1)\n",
        "a=features[target==2,:]\n",
        "print(a[a[:,3] > 1.8,:])"
      ]
    },
    {
      "cell_type": "markdown",
      "metadata": {
        "id": "yX3ltxTdJSV4"
      },
      "source": [
        "## Boston Housing data exercise (UCI ML housing dataset)"
      ]
    },
    {
      "cell_type": "code",
      "execution_count": 25,
      "metadata": {
        "colab": {
          "base_uri": "https://localhost:8080/",
          "height": 0
        },
        "id": "gsSH2VhnJSV5",
        "outputId": "8735382e-137a-4373-dcb7-9a5a207726a4"
      },
      "outputs": [
        {
          "output_type": "stream",
          "name": "stdout",
          "text": [
            "(506, 13) (506,)\n"
          ]
        },
        {
          "output_type": "stream",
          "name": "stderr",
          "text": [
            "/usr/local/lib/python3.7/dist-packages/sklearn/utils/deprecation.py:87: FutureWarning: Function load_boston is deprecated; `load_boston` is deprecated in 1.0 and will be removed in 1.2.\n",
            "\n",
            "    The Boston housing prices dataset has an ethical problem. You can refer to\n",
            "    the documentation of this function for further details.\n",
            "\n",
            "    The scikit-learn maintainers therefore strongly discourage the use of this\n",
            "    dataset unless the purpose of the code is to study and educate about\n",
            "    ethical issues in data science and machine learning.\n",
            "\n",
            "    In this special case, you can fetch the dataset from the original\n",
            "    source::\n",
            "\n",
            "        import pandas as pd\n",
            "        import numpy as np\n",
            "\n",
            "\n",
            "        data_url = \"http://lib.stat.cmu.edu/datasets/boston\"\n",
            "        raw_df = pd.read_csv(data_url, sep=\"\\s+\", skiprows=22, header=None)\n",
            "        data = np.hstack([raw_df.values[::2, :], raw_df.values[1::2, :2]])\n",
            "        target = raw_df.values[1::2, 2]\n",
            "\n",
            "    Alternative datasets include the California housing dataset (i.e.\n",
            "    :func:`~sklearn.datasets.fetch_california_housing`) and the Ames housing\n",
            "    dataset. You can load the datasets as follows::\n",
            "\n",
            "        from sklearn.datasets import fetch_california_housing\n",
            "        housing = fetch_california_housing()\n",
            "\n",
            "    for the California housing dataset and::\n",
            "\n",
            "        from sklearn.datasets import fetch_openml\n",
            "        housing = fetch_openml(name=\"house_prices\", as_frame=True)\n",
            "\n",
            "    for the Ames housing dataset.\n",
            "    \n",
            "  warnings.warn(msg, category=FutureWarning)\n"
          ]
        }
      ],
      "source": [
        "from sklearn import datasets\n",
        "boston = datasets.load_boston()\n",
        "X,Y = boston.data,boston.target\n",
        "print(X.shape, Y.shape)\n"
      ]
    },
    {
      "cell_type": "markdown",
      "metadata": {
        "id": "CEJyjWa0JSV7"
      },
      "source": [
        "The cell above loads the `sklearn` Boston housing data, which contains information about housing prices\n",
        "for 501 houses sold in Boston, and the values of various attributes which have been found to be useful\n",
        "in predicting home prices:\n",
        "\n",
        "```\n",
        "Index\n",
        "0         - CRIM     per capita crime rate by town\n",
        "1         - ZN       proportion of residential land zoned for lots over 25,000 sq.ft.\n",
        "2         - INDUS    proportion of non-retail business acres per town\n",
        "3         - CHAS     Charles River dummy variable (= 1 if tract bounds river; 0 otherwise)\n",
        "4         - NOX      nitric oxides concentration (parts per 10 million)\n",
        "5         - RM       average number of rooms per dwelling\n",
        "6         - AGE      proportion of owner-occupied units built prior to 1940\n",
        "7         - DIS      weighted distances to five Boston employment centres\n",
        "8         - RAD      index of accessibility to radial highways\n",
        "9         - TAX      full-value property-tax rate per $10,000\n",
        "10        - PTRATIO  pupil-teacher ratio by town\n",
        "11        - B        1000(Bk - 0.63)^2 where Bk is the proportion of blacks by town\n",
        "12        - LSTAT    % lower status of the population\n",
        "```\n",
        "\n",
        "The array `X`, defined in the cell above, is a 501x13 array containing the values of all\n",
        "these variables for 501 Boston houses.  \n",
        "\n",
        "The information stored in Y, the value to be predicted is\n",
        "\n",
        "```\n",
        "       - MEDV     Median value of owner-occupied homes in $1000's\n",
        " \n",
        "```\n",
        "\n",
        "1.  Construct an expression or expressions that creates a new table that omits all houses whose tracts\n",
        "    bound the Charles River.\n",
        "2.  Construct an expression or expressions that creates a new table containing only the CRIM column and\n",
        "    the ZN column.  This is  our new X.  Also create a new Y containing the pupil-teach ratio.\n",
        "    This is to help someone research how to predict poor education conditions.  The shape of the new X should\n",
        "    (506,2) and the shape of the new Y should be (506,).  Show that you checked this in your answer."
      ]
    },
    {
      "cell_type": "code",
      "execution_count": 102,
      "metadata": {
        "id": "L4kaM8xuJSV8",
        "colab": {
          "base_uri": "https://localhost:8080/",
          "height": 0
        },
        "outputId": "a6042dd5-9f63-402d-81e4-27f745175c21"
      },
      "outputs": [
        {
          "output_type": "stream",
          "name": "stdout",
          "text": [
            "(471, 13)\n"
          ]
        }
      ],
      "source": [
        "#Part 1\n",
        "notcharles=X[X[:,3]==0,:]\n",
        "print(notcharles.shape)"
      ]
    },
    {
      "cell_type": "code",
      "execution_count": 103,
      "metadata": {
        "id": "p0X0SeoeBLCX"
      },
      "outputs": [],
      "source": [
        "#Not sure what is supposed to go here"
      ]
    },
    {
      "cell_type": "markdown",
      "metadata": {
        "id": "cxOOAwdZBLCX"
      },
      "source": [
        "Write an exporession that computes how many housing tracts in the data set bound\n",
        "the Charles River."
      ]
    },
    {
      "cell_type": "code",
      "execution_count": 104,
      "metadata": {
        "colab": {
          "base_uri": "https://localhost:8080/",
          "height": 0
        },
        "id": "RWz77F1UBLCY",
        "outputId": "926204ba-5134-490a-92ce-9b9137c0689c"
      },
      "outputs": [
        {
          "output_type": "stream",
          "name": "stdout",
          "text": [
            "35\n"
          ]
        }
      ],
      "source": [
        "print(len(X)-len(notcharles))"
      ]
    },
    {
      "cell_type": "markdown",
      "metadata": {
        "id": "IBd5EAsWBLCY"
      },
      "source": [
        "Checks!"
      ]
    },
    {
      "cell_type": "markdown",
      "metadata": {
        "id": "cvrG3pjaBLCY"
      },
      "source": [
        "## Part two"
      ]
    },
    {
      "cell_type": "code",
      "execution_count": 105,
      "metadata": {
        "colab": {
          "base_uri": "https://localhost:8080/",
          "height": 0
        },
        "id": "LP2Z5Sj_BLCZ",
        "outputId": "b7110ad7-3312-4d3d-dfd7-83fae993c721"
      },
      "outputs": [
        {
          "output_type": "stream",
          "name": "stdout",
          "text": [
            "(506, 2)\n",
            "(506,)\n"
          ]
        }
      ],
      "source": [
        "NewX=X[:,[0,1]]\n",
        "print(NewX.shape)\n",
        "NewY=X[:,10]\n",
        "print(NewY.shape)"
      ]
    },
    {
      "cell_type": "markdown",
      "metadata": {
        "id": "Fl5bo57eBLCZ"
      },
      "source": [
        "The answers for the following section are available on the inclass Boolean exercies solution notebook."
      ]
    },
    {
      "cell_type": "markdown",
      "metadata": {
        "id": "F2-lS9n39ZOY"
      },
      "source": [
        "# Boolean combinations\n",
        "\n",
        "In this section we load forest covertype data.  This is a multi class dataset that has data for 7 different forest covertypes (stored in the `target` attribute).  There are 581,012 forest plots with 54 attributes each (stored ina 581012x54 array) The first ten attributes are numerical, the last 44 are Boolean (true/false) attributes. Each of the Boolean attributes represents a qualitative soil type attribute which is either present or absent.  We will refer to all the attributes by their column index.  Thus the first attribute is attribute 0 and the last (a Boolean attribute) is attribute 53."
      ]
    },
    {
      "cell_type": "code",
      "execution_count": 106,
      "metadata": {
        "id": "t0a3FWEa49nE",
        "colab": {
          "base_uri": "https://localhost:8080/",
          "height": 0
        },
        "outputId": "e6c7c76a-9580-4e20-e524-a7ae1026d547"
      },
      "outputs": [
        {
          "output_type": "stream",
          "name": "stdout",
          "text": [
            "(581012, 54)\n",
            "(581012,)\n"
          ]
        }
      ],
      "source": [
        "#from sklearn.datasets import load_wine\n",
        "#wdata = load_wine()\n",
        "from sklearn.datasets import fetch_covtype\n",
        "data = fetch_covtype()\n",
        "print(data.data.shape)  # data.data is the 581012 x 54 array\n",
        "print(data.target.shape)     # data.target contains the class for each instance"
      ]
    },
    {
      "cell_type": "markdown",
      "metadata": {
        "id": "oVxAoFGbBLCa"
      },
      "source": [
        "Th first 26 columns of the plot index 50_210:"
      ]
    },
    {
      "cell_type": "code",
      "execution_count": 118,
      "metadata": {
        "colab": {
          "base_uri": "https://localhost:8080/",
          "height": 0
        },
        "id": "vgsQKsj8BLCa",
        "outputId": "08acbbbb-5730-4c37-a50b-b6dc45eeb415"
      },
      "outputs": [
        {
          "output_type": "execute_result",
          "data": {
            "text/plain": [
              "array([2.988e+03, 2.250e+02, 2.000e+00, 5.520e+02, 9.200e+01, 5.492e+03,\n",
              "       2.160e+02, 2.410e+02, 1.620e+02, 4.290e+03, 1.000e+00, 0.000e+00,\n",
              "       0.000e+00, 0.000e+00, 0.000e+00, 0.000e+00, 0.000e+00, 0.000e+00,\n",
              "       0.000e+00, 0.000e+00, 0.000e+00, 0.000e+00, 0.000e+00, 0.000e+00,\n",
              "       0.000e+00, 0.000e+00])"
            ]
          },
          "metadata": {},
          "execution_count": 118
        }
      ],
      "source": [
        "data.data[50_210,:26]"
      ]
    },
    {
      "cell_type": "markdown",
      "metadata": {
        "id": "fQw2Qjj5BLCb"
      },
      "source": [
        "The last 28 column of the plot index 50_210:"
      ]
    },
    {
      "cell_type": "code",
      "execution_count": 119,
      "metadata": {
        "colab": {
          "base_uri": "https://localhost:8080/",
          "height": 0
        },
        "id": "RPupHLfbBLCb",
        "outputId": "a2180aba-2650-482a-f39d-806ac524f464"
      },
      "outputs": [
        {
          "output_type": "execute_result",
          "data": {
            "text/plain": [
              "array([0., 0., 0., 0., 0., 0., 0., 0., 0., 0., 0., 0., 0., 0., 0., 0., 1.,\n",
              "       0., 0., 0., 0., 0., 0., 0., 0., 0., 0., 0.])"
            ]
          },
          "metadata": {},
          "execution_count": 119
        }
      ],
      "source": [
        "data.data[50_210,26:]"
      ]
    },
    {
      "cell_type": "markdown",
      "metadata": {
        "id": "nlOSWhkBMKAK"
      },
      "source": [
        "[The Boolean arrays and masks notebook](https://github.com/gawron/python-for-social-science/blob/master/numpy/02_06_Boolean_Arrays_and_Masks.ipynb) discusses combining Boolean arrays with Boolean operators `&` (conceptually 'and') and `|` (conceptually 'or').   We can add to that `~` (conceptually 'not') to complete the list.  Look at the examples there.\n",
        "\n",
        " \n",
        "The `sklearn` description of the covertype dataset is printed in the cell below. For a fuller understanding of the attributes in the dataset you might want to look at [the original UCI data set description.](https://archive.ics.uci.edu/ml/datasets/Covertype)"
      ]
    },
    {
      "cell_type": "markdown",
      "metadata": {
        "id": "sx3d-AHhBLCc"
      },
      "source": [
        "Forest covertypes\n",
        "---------------------\n",
        "\n",
        "The samples in this dataset correspond to 30×30m patches of forest in the US,\n",
        "collected for the task of predicting each patch's cover type,\n",
        "i.e. the dominant species of tree.\n",
        "There are seven covertypes, making this a multiclass classification problem.\n",
        "Each sample has 54 features, described on the\n",
        "[dataset's homepage](https://archive.ics.uci.edu/ml/datasets/Covertype>).\n",
        "Some of the features are boolean indicators\n",
        "while others are discrete or continuous measurements.\n",
        "\n",
        "**Data Set Characteristics:**\n",
        "\n",
        "    =================   ============\n",
        "    Classes                        7\n",
        "    Samples total             581012\n",
        "    Dimensionality                54\n",
        "    Features                     int\n",
        "    =================   ============\n",
        "\n",
        "The function `sklearn.datasets.fetch_covtype` will load the covertype dataset;\n",
        "it returns a dictionary-like object\n",
        "with the feature matrix in the ``data`` member\n",
        "and the target values in ``target``.\n",
        "The dataset will be downloaded from the web if necessary."
      ]
    },
    {
      "cell_type": "markdown",
      "metadata": {
        "id": "bXZsBxT6Br8C"
      },
      "source": [
        "`data.data` attribute is a `numpy` array containing the array.  As an example to help with this problem.  To compute an an array containing just the rows in which attribute 0 is greater than 50 you do. "
      ]
    },
    {
      "cell_type": "code",
      "execution_count": 120,
      "metadata": {
        "colab": {
          "base_uri": "https://localhost:8080/",
          "height": 0
        },
        "id": "dVZgDsBLLtxN",
        "outputId": "bf047e1c-9511-47f7-e181-78c59039353b"
      },
      "outputs": [
        {
          "output_type": "stream",
          "name": "stdout",
          "text": [
            "(581012, 54)\n"
          ]
        }
      ],
      "source": [
        "WW = data.data > 50\n",
        "print(WW.shape)"
      ]
    },
    {
      "cell_type": "markdown",
      "metadata": {
        "id": "xgTX9Qm1A-va"
      },
      "source": [
        "The covertypes (or dominant tree) for each forest plot are in `data.target`, which is often the attribute used to store the classes in an `sklearn` clasification dataset.  There is data for 581,012 plots\n",
        "so this is a 1D array of length 581,012.  \n",
        "\n",
        "There are 7 distinct fiorest tyoes that a plot can have."
      ]
    },
    {
      "cell_type": "code",
      "execution_count": 121,
      "metadata": {
        "colab": {
          "base_uri": "https://localhost:8080/",
          "height": 0
        },
        "id": "uVjutdGL7KPL",
        "outputId": "fe988541-8582-48f7-f996-16d9bd9f70eb"
      },
      "outputs": [
        {
          "output_type": "stream",
          "name": "stdout",
          "text": [
            "581012\n",
            "{1, 2, 3, 4, 5, 6, 7}\n"
          ]
        }
      ],
      "source": [
        "print(len(data.target))\n",
        "print(set(data.target))"
      ]
    },
    {
      "cell_type": "markdown",
      "metadata": {
        "id": "uP_e7D-HBLCe"
      },
      "source": [
        "### The problem"
      ]
    },
    {
      "cell_type": "markdown",
      "metadata": {
        "id": "L-fcMVr_Ls7q"
      },
      "source": [
        "1. Write an expression that retrieves all rows that a value greater than 300 in the column indexed 1 (second column) and a value equal to 1 for the column indexed 12. \n",
        "\n",
        "2. Write an expression that retrieves the rows from either class 3 or class 5  that have a value greater than 300 in the column indexed 1 (second column) and a value equal to 1 for the column indexed 12. \n",
        "\n",
        "3. Write an expression that counts the rows from either class 3 or class 5  that have a value greater than 300 in the column indexed 1 (second column) and a value equal to 1 for the column indexed 12. "
      ]
    },
    {
      "cell_type": "code",
      "execution_count": 152,
      "metadata": {
        "colab": {
          "base_uri": "https://localhost:8080/",
          "height": 0
        },
        "id": "S2T1Ns4QBLCg",
        "outputId": "85ed9f7b-5839-4b11-f334-06a183a7b301"
      },
      "outputs": [
        {
          "output_type": "execute_result",
          "data": {
            "text/plain": [
              "1261"
            ]
          },
          "metadata": {},
          "execution_count": 152
        }
      ],
      "source": [
        "#Not sure if these are correct\n",
        "#1\n",
        "a=(data.data[:,1]>300) & (data.data[:,12]==1)\n",
        "#2\n",
        "b=((data.target==3) | (data.target==5)) & a\n",
        "#3\n",
        "np.sum(b)"
      ]
    },
    {
      "cell_type": "markdown",
      "metadata": {
        "id": "MdNH13MJ1wu_"
      },
      "source": [
        ""
      ]
    }
  ],
  "metadata": {
    "colab": {
      "name": "full_numpy_assignment.ipynb",
      "provenance": []
    },
    "kernelspec": {
      "display_name": "Python 3",
      "language": "python",
      "name": "python3"
    },
    "language_info": {
      "codemirror_mode": {
        "name": "ipython",
        "version": 3
      },
      "file_extension": ".py",
      "mimetype": "text/x-python",
      "name": "python",
      "nbconvert_exporter": "python",
      "pygments_lexer": "ipython3",
      "version": "3.7.6"
    },
    "name": "_merged",
    "toc": {
      "base_numbering": 1,
      "nav_menu": {},
      "number_sections": true,
      "sideBar": true,
      "skip_h1_title": false,
      "title_cell": "Table of Contents",
      "title_sidebar": "Contents",
      "toc_cell": false,
      "toc_position": {},
      "toc_section_display": true,
      "toc_window_display": false
    }
  },
  "nbformat": 4,
  "nbformat_minor": 0
}